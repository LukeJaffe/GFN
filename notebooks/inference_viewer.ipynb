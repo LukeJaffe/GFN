{
 "cells": [
  {
   "cell_type": "code",
   "execution_count": null,
   "id": "a87271b0",
   "metadata": {},
   "outputs": [],
   "source": [
    "# Global imports\n",
    "import os\n",
    "\n",
    "# Utilities from OSR package\n",
    "from osr.viz.utils import show_query, show_gallery"
   ]
  },
  {
   "cell_type": "code",
   "execution_count": null,
   "id": "8d281f37",
   "metadata": {},
   "outputs": [],
   "source": [
    "# Parameters\n",
    "image_dir = '../demo'\n",
    "results_dir = '../demo/output'\n",
    "query_results_dir = os.path.join(results_dir, 'query')\n",
    "gallery_results_dir = os.path.join(results_dir, 'gallery')\n",
    "query_image_dir = os.path.join(image_dir, 'query')\n",
    "gallery_image_dir = os.path.join(image_dir, 'gallery')"
   ]
  },
  {
   "cell_type": "code",
   "execution_count": null,
   "id": "67fd3695",
   "metadata": {},
   "outputs": [],
   "source": [
    "# Show query scene and get query crop\n",
    "query_crop_list = show_query(query_results_dir, query_image_dir)"
   ]
  },
  {
   "cell_type": "code",
   "execution_count": null,
   "id": "6dddd726",
   "metadata": {
    "scrolled": false
   },
   "outputs": [],
   "source": [
    "# Show gallery scenes and ranked re-id crops\n",
    "show_gallery(gallery_results_dir, gallery_image_dir, query_crop_list)"
   ]
  }
 ],
 "metadata": {
  "kernelspec": {
   "display_name": "Python 3 (ipykernel)",
   "language": "python",
   "name": "python3"
  },
  "language_info": {
   "codemirror_mode": {
    "name": "ipython",
    "version": 3
   },
   "file_extension": ".py",
   "mimetype": "text/x-python",
   "name": "python",
   "nbconvert_exporter": "python",
   "pygments_lexer": "ipython3",
   "version": "3.7.13"
  }
 },
 "nbformat": 4,
 "nbformat_minor": 5
}
